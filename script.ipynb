{
 "cells": [
  {
   "cell_type": "code",
   "execution_count": 1,
   "source": [
    "import pandas as pd\r\n",
    "import numpy as np\r\n",
    "import matplotlib.pyplot as plt"
   ],
   "outputs": [],
   "metadata": {}
  },
  {
   "cell_type": "code",
   "execution_count": 2,
   "source": [
    "data = pd.read_csv(\"./data/train.csv\")"
   ],
   "outputs": [],
   "metadata": {}
  },
  {
   "cell_type": "code",
   "execution_count": 3,
   "source": [
    "# Look at the top 5 data\r\n",
    "data.head()"
   ],
   "outputs": [
    {
     "output_type": "execute_result",
     "data": {
      "text/html": [
       "<div>\n",
       "<style scoped>\n",
       "    .dataframe tbody tr th:only-of-type {\n",
       "        vertical-align: middle;\n",
       "    }\n",
       "\n",
       "    .dataframe tbody tr th {\n",
       "        vertical-align: top;\n",
       "    }\n",
       "\n",
       "    .dataframe thead th {\n",
       "        text-align: right;\n",
       "    }\n",
       "</style>\n",
       "<table border=\"1\" class=\"dataframe\">\n",
       "  <thead>\n",
       "    <tr style=\"text-align: right;\">\n",
       "      <th></th>\n",
       "      <th>label</th>\n",
       "      <th>pixel0</th>\n",
       "      <th>pixel1</th>\n",
       "      <th>pixel2</th>\n",
       "      <th>pixel3</th>\n",
       "      <th>pixel4</th>\n",
       "      <th>pixel5</th>\n",
       "      <th>pixel6</th>\n",
       "      <th>pixel7</th>\n",
       "      <th>pixel8</th>\n",
       "      <th>...</th>\n",
       "      <th>pixel774</th>\n",
       "      <th>pixel775</th>\n",
       "      <th>pixel776</th>\n",
       "      <th>pixel777</th>\n",
       "      <th>pixel778</th>\n",
       "      <th>pixel779</th>\n",
       "      <th>pixel780</th>\n",
       "      <th>pixel781</th>\n",
       "      <th>pixel782</th>\n",
       "      <th>pixel783</th>\n",
       "    </tr>\n",
       "  </thead>\n",
       "  <tbody>\n",
       "    <tr>\n",
       "      <th>0</th>\n",
       "      <td>1</td>\n",
       "      <td>0</td>\n",
       "      <td>0</td>\n",
       "      <td>0</td>\n",
       "      <td>0</td>\n",
       "      <td>0</td>\n",
       "      <td>0</td>\n",
       "      <td>0</td>\n",
       "      <td>0</td>\n",
       "      <td>0</td>\n",
       "      <td>...</td>\n",
       "      <td>0</td>\n",
       "      <td>0</td>\n",
       "      <td>0</td>\n",
       "      <td>0</td>\n",
       "      <td>0</td>\n",
       "      <td>0</td>\n",
       "      <td>0</td>\n",
       "      <td>0</td>\n",
       "      <td>0</td>\n",
       "      <td>0</td>\n",
       "    </tr>\n",
       "    <tr>\n",
       "      <th>1</th>\n",
       "      <td>0</td>\n",
       "      <td>0</td>\n",
       "      <td>0</td>\n",
       "      <td>0</td>\n",
       "      <td>0</td>\n",
       "      <td>0</td>\n",
       "      <td>0</td>\n",
       "      <td>0</td>\n",
       "      <td>0</td>\n",
       "      <td>0</td>\n",
       "      <td>...</td>\n",
       "      <td>0</td>\n",
       "      <td>0</td>\n",
       "      <td>0</td>\n",
       "      <td>0</td>\n",
       "      <td>0</td>\n",
       "      <td>0</td>\n",
       "      <td>0</td>\n",
       "      <td>0</td>\n",
       "      <td>0</td>\n",
       "      <td>0</td>\n",
       "    </tr>\n",
       "    <tr>\n",
       "      <th>2</th>\n",
       "      <td>1</td>\n",
       "      <td>0</td>\n",
       "      <td>0</td>\n",
       "      <td>0</td>\n",
       "      <td>0</td>\n",
       "      <td>0</td>\n",
       "      <td>0</td>\n",
       "      <td>0</td>\n",
       "      <td>0</td>\n",
       "      <td>0</td>\n",
       "      <td>...</td>\n",
       "      <td>0</td>\n",
       "      <td>0</td>\n",
       "      <td>0</td>\n",
       "      <td>0</td>\n",
       "      <td>0</td>\n",
       "      <td>0</td>\n",
       "      <td>0</td>\n",
       "      <td>0</td>\n",
       "      <td>0</td>\n",
       "      <td>0</td>\n",
       "    </tr>\n",
       "    <tr>\n",
       "      <th>3</th>\n",
       "      <td>4</td>\n",
       "      <td>0</td>\n",
       "      <td>0</td>\n",
       "      <td>0</td>\n",
       "      <td>0</td>\n",
       "      <td>0</td>\n",
       "      <td>0</td>\n",
       "      <td>0</td>\n",
       "      <td>0</td>\n",
       "      <td>0</td>\n",
       "      <td>...</td>\n",
       "      <td>0</td>\n",
       "      <td>0</td>\n",
       "      <td>0</td>\n",
       "      <td>0</td>\n",
       "      <td>0</td>\n",
       "      <td>0</td>\n",
       "      <td>0</td>\n",
       "      <td>0</td>\n",
       "      <td>0</td>\n",
       "      <td>0</td>\n",
       "    </tr>\n",
       "    <tr>\n",
       "      <th>4</th>\n",
       "      <td>0</td>\n",
       "      <td>0</td>\n",
       "      <td>0</td>\n",
       "      <td>0</td>\n",
       "      <td>0</td>\n",
       "      <td>0</td>\n",
       "      <td>0</td>\n",
       "      <td>0</td>\n",
       "      <td>0</td>\n",
       "      <td>0</td>\n",
       "      <td>...</td>\n",
       "      <td>0</td>\n",
       "      <td>0</td>\n",
       "      <td>0</td>\n",
       "      <td>0</td>\n",
       "      <td>0</td>\n",
       "      <td>0</td>\n",
       "      <td>0</td>\n",
       "      <td>0</td>\n",
       "      <td>0</td>\n",
       "      <td>0</td>\n",
       "    </tr>\n",
       "  </tbody>\n",
       "</table>\n",
       "<p>5 rows × 785 columns</p>\n",
       "</div>"
      ],
      "text/plain": [
       "   label  pixel0  pixel1  pixel2  pixel3  pixel4  pixel5  pixel6  pixel7  \\\n",
       "0      1       0       0       0       0       0       0       0       0   \n",
       "1      0       0       0       0       0       0       0       0       0   \n",
       "2      1       0       0       0       0       0       0       0       0   \n",
       "3      4       0       0       0       0       0       0       0       0   \n",
       "4      0       0       0       0       0       0       0       0       0   \n",
       "\n",
       "   pixel8  ...  pixel774  pixel775  pixel776  pixel777  pixel778  pixel779  \\\n",
       "0       0  ...         0         0         0         0         0         0   \n",
       "1       0  ...         0         0         0         0         0         0   \n",
       "2       0  ...         0         0         0         0         0         0   \n",
       "3       0  ...         0         0         0         0         0         0   \n",
       "4       0  ...         0         0         0         0         0         0   \n",
       "\n",
       "   pixel780  pixel781  pixel782  pixel783  \n",
       "0         0         0         0         0  \n",
       "1         0         0         0         0  \n",
       "2         0         0         0         0  \n",
       "3         0         0         0         0  \n",
       "4         0         0         0         0  \n",
       "\n",
       "[5 rows x 785 columns]"
      ]
     },
     "metadata": {},
     "execution_count": 3
    }
   ],
   "metadata": {}
  },
  {
   "cell_type": "markdown",
   "source": [
    "Each row corresponds to one training example and the label and pixel value of each example"
   ],
   "metadata": {}
  },
  {
   "cell_type": "code",
   "execution_count": 5,
   "source": [
    "# Convert pandas dataframe to numpy array to use linear algebra\r\n",
    "data = np.array(data)\r\n",
    "# get the dimensions of the data\r\n",
    "m, n = data.shape\r\n",
    "# Shuffle the dataset\r\n",
    "np.random.shuffle(data)"
   ],
   "outputs": [],
   "metadata": {}
  },
  {
   "cell_type": "code",
   "execution_count": 46,
   "source": [
    "m"
   ],
   "outputs": [
    {
     "output_type": "execute_result",
     "data": {
      "text/plain": [
       "42000"
      ]
     },
     "metadata": {},
     "execution_count": 46
    }
   ],
   "metadata": {}
  },
  {
   "cell_type": "code",
   "execution_count": 6,
   "source": [
    "# Create train-test split\r\n",
    "\r\n",
    "# Validation data\r\n",
    "val_data = data[:1000].T\r\n",
    "Y_val = val_data[0]\r\n",
    "X_val = val_data[1: n]\r\n",
    "\r\n",
    "# Train data\r\n",
    "train_data = data[1000: m].T\r\n",
    "Y_train = train_data[0]\r\n",
    "X_train = train_data[1: n]\r\n"
   ],
   "outputs": [],
   "metadata": {}
  },
  {
   "cell_type": "code",
   "execution_count": 49,
   "source": [
    "print(Y_train)\r\n",
    "print(X_train[:, 0].shape)"
   ],
   "outputs": [
    {
     "output_type": "stream",
     "name": "stdout",
     "text": [
      "[9 1 2 ... 6 1 7]\n",
      "(784,)\n"
     ]
    }
   ],
   "metadata": {}
  },
  {
   "cell_type": "code",
   "execution_count": 11,
   "source": [
    "def init_params():\r\n",
    "    W1 = np.random.rand(10, 784) - 0.5\r\n",
    "    b1 = np.random.rand(10, 1) - 0.5\r\n",
    "    W2 = np.random.rand(10, 10) - 0.5\r\n",
    "    b2 = np.random.rand(10, 1) - 0.5\r\n",
    "    return W1, b1, W2, b2"
   ],
   "outputs": [],
   "metadata": {}
  },
  {
   "cell_type": "code",
   "execution_count": 12,
   "source": [
    "# Rectified Linear Unit function (Activation function)\r\n",
    "def ReLU(Z):\r\n",
    "    # Takes every single element in Z, if it's more than 0, it will return the element else, it will return 0\r\n",
    "    return np.maximum(0, Z)"
   ],
   "outputs": [],
   "metadata": {}
  },
  {
   "cell_type": "code",
   "execution_count": 22,
   "source": [
    "def deriv_ReLU(Z):\r\n",
    "    return Z > 0"
   ],
   "outputs": [],
   "metadata": {}
  },
  {
   "cell_type": "code",
   "execution_count": 18,
   "source": [
    "# SoftMax Function (Activation function)\r\n",
    "def softMax(Z):\r\n",
    "    return np.exp(Z) / np.sum(np.exp(Z))"
   ],
   "outputs": [],
   "metadata": {}
  },
  {
   "cell_type": "code",
   "execution_count": 30,
   "source": [
    "def forward_prop(W1, b1, W2, b2, X):\r\n",
    "\r\n",
    "    Z1 = W1.dot(X) + b1\r\n",
    "    A1 = ReLU(Z1)\r\n",
    "    Z2 = W2.dot(A1) + b2\r\n",
    "    A2 = softMax(A1)\r\n",
    "    return Z1, A1, Z2, A2\r\n",
    "    "
   ],
   "outputs": [],
   "metadata": {}
  },
  {
   "cell_type": "code",
   "execution_count": 21,
   "source": [
    "# One hot encoding for Y labels\r\n",
    "def one_hot(Y):\r\n",
    "    # Y.size is essentially m\r\n",
    "    one_hot_Y = np.zeros((Y.size, Y.max() + 1)) # Creates a null matrix with the size of the amount of labels\r\n",
    "    one_hot_Y[np.arange(Y.size), Y] = 1 # Goes to the row/column of the label and set the value at that index to 1\r\n",
    "    one_hot_Y = one_hot_Y.T\r\n",
    "    return one_hot_Y"
   ],
   "outputs": [],
   "metadata": {}
  },
  {
   "cell_type": "code",
   "execution_count": 38,
   "source": [
    "def back_prop(Z1, A1, Z2, A2, W2, X, Y):\r\n",
    "    m = Y.size\r\n",
    "    one_hot_Y = one_hot(Y)\r\n",
    "\r\n",
    "    dZ2 = A2 - one_hot_Y # Error of output layer\r\n",
    "    dW2 = 1 / m * dZ2.dot(A1.T) # Derivative of Loss function with respect to weight\r\n",
    "    db2 = 1/m * np.sum(dZ2) # Average of absolute error\r\n",
    "\r\n",
    "    dZ1 = W2.T.dot(dZ2) * deriv_ReLU(Z1) # Error of Hidden layer\r\n",
    "    dW1 = 1 / m * dZ1.dot(X.T) # Derivative of Loss function with respect to weight\r\n",
    "    db1 = 1/m * np.sum(dZ1)  # Average of absolute error\r\n",
    "\r\n",
    "    return dW1, db1, dW2, db2\r\n"
   ],
   "outputs": [],
   "metadata": {}
  },
  {
   "cell_type": "code",
   "execution_count": 24,
   "source": [
    "def update_params(W1, b1, W2, b2, dW1, db1, dW2, db2, alpha):\r\n",
    "    W1 = W1 - alpha * dW1\r\n",
    "    b1 = b1 - alpha* db1\r\n",
    "    W2 = W2 - alpha * dW2\r\n",
    "    b2 = b2 - alpha* db2\r\n",
    "\r\n",
    "    return W1, b1, W2, b2"
   ],
   "outputs": [],
   "metadata": {}
  },
  {
   "cell_type": "code",
   "execution_count": 36,
   "source": [
    "def get_accuracy(predictions, Y):\r\n",
    "    print(predictions, Y)\r\n",
    "    return np.sum(predictions == Y) / Y.size\r\n",
    "\r\n",
    "def get_predictions(A2):\r\n",
    "    return np.argmax(A2, 0)"
   ],
   "outputs": [],
   "metadata": {}
  },
  {
   "cell_type": "code",
   "execution_count": 44,
   "source": [
    "def gradient_descent(x, Y, iter, alpha):\r\n",
    "    W1, b1, W2, b2 = init_params()\r\n",
    "    for i in range(iter):\r\n",
    "        Z1, A1, Z2, A2 = forward_prop(W1, b1, W2, b2, x)\r\n",
    "        dW1 , db1, dW2, db2 = back_prop(Z1, A1, Z2, A2, W2, x, Y)\r\n",
    "        W1, b1, W2, b2 = update_params(W1, b1, W2, b2, dW1, db1, dW2, db2, alpha)\r\n",
    "        if (i % 50) == 0:\r\n",
    "            print(f\"Iteration: {i}\")\r\n",
    "            print(f\"Accuracy: {get_accuracy(get_predictions(A2), Y)}\")\r\n",
    "        \r\n",
    "    return W1, b1, W2, b2"
   ],
   "outputs": [],
   "metadata": {}
  },
  {
   "cell_type": "code",
   "execution_count": 45,
   "source": [
    "W1, b1, W2, b2 = gradient_descent(X_train, Y_train, 1000, 0.1)"
   ],
   "outputs": [
    {
     "output_type": "stream",
     "name": "stderr",
     "text": [
      "<ipython-input-18-8877bab4ad09>:3: RuntimeWarning: overflow encountered in exp\n",
      "  return np.exp(Z) / np.sum(np.exp(Z))\n",
      "<ipython-input-18-8877bab4ad09>:3: RuntimeWarning: invalid value encountered in true_divide\n",
      "  return np.exp(Z) / np.sum(np.exp(Z))\n"
     ]
    },
    {
     "output_type": "stream",
     "name": "stdout",
     "text": [
      "Iteration: 0\n",
      "[0 1 5 ... 9 7 0] [9 1 2 ... 6 1 7]\n",
      "Accuracy: 0.10558536585365853\n",
      "Iteration: 50\n",
      "[0 0 0 ... 0 0 0] [9 1 2 ... 6 1 7]\n",
      "Accuracy: 0.09851219512195122\n",
      "Iteration: 100\n",
      "[0 0 0 ... 0 0 0] [9 1 2 ... 6 1 7]\n",
      "Accuracy: 0.09851219512195122\n",
      "Iteration: 150\n",
      "[0 0 0 ... 0 0 0] [9 1 2 ... 6 1 7]\n",
      "Accuracy: 0.09851219512195122\n",
      "Iteration: 200\n",
      "[0 0 0 ... 0 0 0] [9 1 2 ... 6 1 7]\n",
      "Accuracy: 0.09851219512195122\n",
      "Iteration: 250\n",
      "[0 0 0 ... 0 0 0] [9 1 2 ... 6 1 7]\n",
      "Accuracy: 0.09851219512195122\n",
      "Iteration: 300\n",
      "[0 0 0 ... 0 0 0] [9 1 2 ... 6 1 7]\n",
      "Accuracy: 0.09851219512195122\n",
      "Iteration: 350\n",
      "[0 0 0 ... 0 0 0] [9 1 2 ... 6 1 7]\n",
      "Accuracy: 0.09851219512195122\n",
      "Iteration: 400\n",
      "[0 0 0 ... 0 0 0] [9 1 2 ... 6 1 7]\n",
      "Accuracy: 0.09851219512195122\n",
      "Iteration: 450\n",
      "[0 0 0 ... 0 0 0] [9 1 2 ... 6 1 7]\n",
      "Accuracy: 0.09851219512195122\n",
      "Iteration: 500\n",
      "[0 0 0 ... 0 0 0] [9 1 2 ... 6 1 7]\n",
      "Accuracy: 0.09851219512195122\n",
      "Iteration: 550\n",
      "[0 0 0 ... 0 0 0] [9 1 2 ... 6 1 7]\n",
      "Accuracy: 0.09851219512195122\n",
      "Iteration: 600\n",
      "[0 0 0 ... 0 0 0] [9 1 2 ... 6 1 7]\n",
      "Accuracy: 0.09851219512195122\n",
      "Iteration: 650\n",
      "[0 0 0 ... 0 0 0] [9 1 2 ... 6 1 7]\n",
      "Accuracy: 0.09851219512195122\n",
      "Iteration: 700\n",
      "[0 0 0 ... 0 0 0] [9 1 2 ... 6 1 7]\n",
      "Accuracy: 0.09851219512195122\n",
      "Iteration: 750\n",
      "[0 0 0 ... 0 0 0] [9 1 2 ... 6 1 7]\n",
      "Accuracy: 0.09851219512195122\n",
      "Iteration: 800\n",
      "[0 0 0 ... 0 0 0] [9 1 2 ... 6 1 7]\n",
      "Accuracy: 0.09851219512195122\n",
      "Iteration: 850\n",
      "[0 0 0 ... 0 0 0] [9 1 2 ... 6 1 7]\n",
      "Accuracy: 0.09851219512195122\n",
      "Iteration: 900\n",
      "[0 0 0 ... 0 0 0] [9 1 2 ... 6 1 7]\n",
      "Accuracy: 0.09851219512195122\n",
      "Iteration: 950\n",
      "[0 0 0 ... 0 0 0] [9 1 2 ... 6 1 7]\n",
      "Accuracy: 0.09851219512195122\n"
     ]
    }
   ],
   "metadata": {}
  },
  {
   "cell_type": "code",
   "execution_count": null,
   "source": [],
   "outputs": [],
   "metadata": {}
  }
 ],
 "metadata": {
  "orig_nbformat": 4,
  "language_info": {
   "name": "python",
   "version": "3.9.1",
   "mimetype": "text/x-python",
   "codemirror_mode": {
    "name": "ipython",
    "version": 3
   },
   "pygments_lexer": "ipython3",
   "nbconvert_exporter": "python",
   "file_extension": ".py"
  },
  "kernelspec": {
   "name": "python3",
   "display_name": "Python 3.9.1 64-bit"
  },
  "interpreter": {
   "hash": "705a0fface73d7bf5dcb9415cd126aacd2ed3bc07552ba5f1989523a8d8937c8"
  }
 },
 "nbformat": 4,
 "nbformat_minor": 2
}